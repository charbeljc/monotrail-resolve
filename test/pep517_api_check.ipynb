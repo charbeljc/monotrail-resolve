{
 "cells": [
  {
   "cell_type": "code",
   "execution_count": null,
   "outputs": [],
   "source": [
    "# Old test to check whether `prepare_metadata_for_build_wheel` returns the same METADATA as `build_wheel` later\n",
    "# It does return the same metadata :)"
   ],
   "metadata": {
    "collapsed": false
   }
  },
  {
   "cell_type": "code",
   "execution_count": null,
   "outputs": [],
   "source": [
    "\"\"\"\n",
    "docker run --net=host --cpus 6 --name sdist_test -it --workdir /app -v \"$(pwd)/sdist_check:/app/sdist_check\" -v \"$(pwd)/resolve_prototype:/app/resolve_prototype\" python:3.8 bash\n",
    "python -m venv sdist_check/.venv\n",
    ". sdist_check/.venv/bin/activate\n",
    "pip install jupyter aiofiles build httpx importlib-metadata orjson pydantic respx tomlkit\n",
    "pip install wheel setuptools-rust flit hatch # what we might need\n",
    "pip install cppy numpy Cython maturin setuptools_scm\n",
    "apt install -y libunwind-dev\n",
    "export CARGO_HOME=/app/sdist_check/cargo_home\n",
    "export RUSTUP_HOME=/app/sdist_check/rustup_home\n",
    "curl --proto '=https' --tlsv1.2 -sSf https://sh.rustup.rs | sh -s -- -y\n",
    "source \"/app/sdist_check/cargo_home/env\"\n",
    "jupyter notebook --allow-root\n",
    "\"\"\""
   ],
   "metadata": {
    "collapsed": false
   }
  },
  {
   "cell_type": "code",
   "execution_count": null,
   "outputs": [],
   "source": [
    "from pathlib import Path\n",
    "\n",
    "sdist_check = Path(\"sdist_check\")\n",
    "\n",
    "names_and_versions = [\n",
    "    tuple(i.split(\"==\"))\n",
    "    for i in sdist_check.joinpath(\"popular.txt\").read_text().strip().splitlines()\n",
    "]\n",
    "print(names_and_versions)"
   ],
   "metadata": {
    "collapsed": false
   }
  },
  {
   "cell_type": "code",
   "execution_count": null,
   "outputs": [],
   "source": [
    "import httpx\n",
    "from resolve_prototype.pypi_api_types import ProjectVersionJsonResponse\n",
    "import urllib.request\n",
    "\n",
    "sdist_dir = sdist_check.joinpath(\"sdists\")"
   ],
   "metadata": {
    "collapsed": false,
    "ExecuteTime": {
     "start_time": "2023-03-21T16:03:28.954533Z",
     "end_time": "2023-03-21T16:03:28.964367Z"
    }
   }
  },
  {
   "cell_type": "code",
   "execution_count": null,
   "outputs": [],
   "source": [
    "sdist_dir.mkdir(exist_ok=True)\n",
    "for name, version in names_and_versions:\n",
    "    # The f\"https://files.pythonhosted.org/packages/source/{name[0]}/{name}/{name}-{version}.tar.gz\" url did not work due to normalization\n",
    "    url = f\"https://pypi.org/pypi/{name}/{version}/json\"\n",
    "    print(url)\n",
    "    response = httpx.get(url, follow_redirects=True)\n",
    "    response.raise_for_status()\n",
    "    data = ProjectVersionJsonResponse(**response.json())\n",
    "    for url_object in data.urls:\n",
    "        if url_object.packagetype == \"sdist\":\n",
    "            break\n",
    "    else:\n",
    "        raise RuntimeError(f\"sdist not found {name} {version}\")\n",
    "    print(url_object.url)\n",
    "\n",
    "    filename = str(url_object.url).split(\"/\")[-1]\n",
    "    downloaded_file = sdist_dir.joinpath(filename)\n",
    "    if not downloaded_file.exists():\n",
    "        urllib.request.urlretrieve(url_object.url, downloaded_file)"
   ],
   "metadata": {
    "collapsed": false,
    "ExecuteTime": {
     "start_time": "2023-03-21T14:49:28.958566Z",
     "end_time": "2023-03-21T14:49:44.279271Z"
    }
   }
  },
  {
   "cell_type": "code",
   "execution_count": null,
   "outputs": [],
   "source": [
    "sdist_map = dict()\n",
    "for file in sdist_dir.iterdir():\n",
    "    norm_name = (\n",
    "        file.name.lower()\n",
    "        .replace(\".tar.gz\", \"\")\n",
    "        .replace(\".zip\", \"\")\n",
    "        .replace(\".\", \"-\")\n",
    "        .replace(\"_\", \"-\")\n",
    "    )\n",
    "    sdist_map[norm_name] = file"
   ],
   "metadata": {
    "collapsed": false,
    "ExecuteTime": {
     "start_time": "2023-03-21T14:49:46.470859Z",
     "end_time": "2023-03-21T14:49:46.481081Z"
    }
   }
  },
  {
   "cell_type": "code",
   "execution_count": null,
   "outputs": [],
   "source": [
    "from resolve_prototype.sdist import ProjectHooksCaptureOutput\n",
    "import zipfile\n",
    "import shutil\n",
    "from build import ProjectBuilder, BuildBackendException\n",
    "from tempfile import TemporaryDirectory\n",
    "from tqdm.auto import tqdm\n",
    "\n",
    "for name, version in tqdm(names_and_versions):\n",
    "    downloaded_file = sdist_map[\n",
    "        f\"{name}-{version}\".lower().replace(\".\", \"-\").replace(\"_\", \"-\")\n",
    "    ]\n",
    "    metadata_store = sdist_check.joinpath(\"metadata\").joinpath(name)\n",
    "    if metadata_store.is_dir() and len(list(metadata_store.iterdir())) == 2:\n",
    "        continue\n",
    "    metadata_store.mkdir(parents=True, exist_ok=True)\n",
    "\n",
    "    with TemporaryDirectory() as temp_dir:\n",
    "        temp_dir = Path(temp_dir)\n",
    "\n",
    "        extracted1 = temp_dir.joinpath(\"extracted1\")\n",
    "        metadata_dir1 = temp_dir.joinpath(\"metadata_dir1\")\n",
    "        shutil.unpack_archive(downloaded_file, extracted1)\n",
    "        [extracted1] = extracted1.iterdir()\n",
    "\n",
    "        capture = ProjectHooksCaptureOutput()\n",
    "        print(\n",
    "            name,\n",
    "            version,\n",
    "            ProjectBuilder(\n",
    "                extracted1, runner=capture.subprocess_runner\n",
    "            ).get_requires_for_build(\"wheel\"),\n",
    "        )\n",
    "\n",
    "        capture = ProjectHooksCaptureOutput()\n",
    "        try:\n",
    "            ProjectBuilder(extracted1, runner=capture.subprocess_runner).metadata_path(\n",
    "                metadata_dir1\n",
    "            )\n",
    "        except BuildBackendException as e:\n",
    "            raise RuntimeError(\n",
    "                f\"Failed to build metadata for {name} {version}: {e}\\n\"\n",
    "                f\"--- Stdout:\\n{capture.stdout}\\n\"\n",
    "                f\"--- Stderr:\\n{capture.stderr}\\n\"\n",
    "                \"---\\n\"\n",
    "            )\n",
    "\n",
    "        if metadata_store.joinpath(\"meta_only\").is_dir():\n",
    "            shutil.rmtree(metadata_store.joinpath(\"meta_only\"))\n",
    "        [metadata_dir1] = metadata_dir1.glob(\"*.dist-info\")\n",
    "        shutil.copytree(metadata_dir1, metadata_store.joinpath(\"meta_only\"))\n",
    "\n",
    "        extracted2 = temp_dir.joinpath(\"extracted2\")\n",
    "        wheel_dir2 = temp_dir.joinpath(\"wheel_dir2\")\n",
    "        extract_dir2 = temp_dir.joinpath(\"extract_dir2\")\n",
    "        shutil.unpack_archive(downloaded_file, extracted2)\n",
    "        [extracted2] = extracted2.iterdir()\n",
    "\n",
    "        capture = ProjectHooksCaptureOutput()\n",
    "        try:\n",
    "            ProjectBuilder(extracted2, runner=capture.subprocess_runner).build(\n",
    "                \"wheel\", wheel_dir2\n",
    "            )\n",
    "        except BuildBackendException as e:\n",
    "            raise RuntimeError(\n",
    "                f\"Failed to build metadata for {name} {version}: {e}\\n\"\n",
    "                f\"--- Stdout:\\n{capture.stdout}\\n\"\n",
    "                f\"--- Stderr:\\n{capture.stderr}\\n\"\n",
    "                \"---\\n\"\n",
    "            )\n",
    "\n",
    "        [wheel_file] = wheel_dir2.iterdir()\n",
    "        with zipfile.ZipFile(wheel_file, \"r\") as zip_ref:\n",
    "            zip_ref.extractall(extract_dir2)\n",
    "        [metadata_dir2] = extract_dir2.glob(\"*.dist-info\")\n",
    "\n",
    "        if metadata_store.joinpath(\"full_build\").is_dir():\n",
    "            shutil.rmtree(metadata_store.joinpath(\"full_build\"))\n",
    "        shutil.copytree(metadata_dir2, metadata_store.joinpath(\"full_build\"))"
   ],
   "metadata": {
    "collapsed": false,
    "ExecuteTime": {
     "start_time": "2023-03-21T16:05:10.116336Z",
     "end_time": "2023-03-21T16:05:39.725722Z"
    }
   }
  },
  {
   "cell_type": "code",
   "execution_count": null,
   "outputs": [],
   "source": [
    "for project in Path(\"sdist_check\").joinpath(\"metadata\").iterdir():\n",
    "    if not project.joinpath(\"full_build\").joinpath(\"METADATA\").exists():\n",
    "        continue\n",
    "    full_build = project.joinpath(\"full_build\").joinpath(\"METADATA\").read_text()\n",
    "    meta_only = project.joinpath(\"meta_only\").joinpath(\"METADATA\").read_text()\n",
    "\n",
    "    print(project.name, full_build == meta_only)"
   ],
   "metadata": {
    "collapsed": false,
    "ExecuteTime": {
     "start_time": "2023-03-21T16:11:11.145008Z",
     "end_time": "2023-03-21T16:11:11.188605Z"
    }
   }
  },
  {
   "cell_type": "code",
   "execution_count": null,
   "outputs": [],
   "source": [
    "!cd sethmlarson_pypi_data\n",
    "!curl -L -s https://github.com/sethmlarson/pypi-data/releases/download/2023.01.25/pypi.db.gz | gunzip -c > sethmlarson_pypi_data/pypi.db"
   ],
   "metadata": {
    "collapsed": false
   }
  }
 ],
 "metadata": {
  "kernelspec": {
   "display_name": "Python 3",
   "language": "python",
   "name": "python3"
  },
  "language_info": {
   "codemirror_mode": {
    "name": "ipython",
    "version": 2
   },
   "file_extension": ".py",
   "mimetype": "text/x-python",
   "name": "python",
   "nbconvert_exporter": "python",
   "pygments_lexer": "ipython2",
   "version": "2.7.6"
  }
 },
 "nbformat": 4,
 "nbformat_minor": 0
}
